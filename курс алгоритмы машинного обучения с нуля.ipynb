{
 "cells": [
  {
   "cell_type": "markdown",
   "id": "d0006892",
   "metadata": {},
   "source": [
    "курс Алгоритмы Машинного обучения с нуля"
   ]
  },
  {
   "cell_type": "code",
   "execution_count": 7,
   "id": "f7ebd6e7",
   "metadata": {},
   "outputs": [],
   "source": [
    "import pandas as pd\n",
    "import numpy as np\n",
    "import seaborn as sns\n",
    "import sklearn as sk\n",
    "\n",
    "from sklearn.datasets import make_regression\n",
    "from sklearn.datasets import make_classification\n",
    "from sklearn.datasets import load_diabetes"
   ]
  },
  {
   "cell_type": "code",
   "execution_count": 5,
   "id": "5552d015",
   "metadata": {},
   "outputs": [],
   "source": [
    "# datasets\n",
    "\n",
    "X, y = make_regression(n_samples=1000, n_features=14, n_informative=10, noise=15, random_state=42)\n",
    "X = pd.DataFrame(X)\n",
    "y = pd.Series(y)\n",
    "X.columns = [f'col_{col}' for col in X.columns]\n",
    "\n",
    "X, y = make_classification(n_samples=1000, n_features=14, n_informative=10, random_state=42)\n",
    "X = pd.DataFrame(X)\n",
    "y = pd.Series(y)\n",
    "X.columns = [f'col_{col}' for col in X.columns]\n",
    "\n",
    "# для классификации - Banknote Authentication\n",
    "\n",
    "df = pd.read_csv('https://archive.ics.uci.edu/static/public/267/banknote+authentication.zip', \n",
    "                 header=None)\n",
    "df.columns = ['variance', 'skewness', 'curtosis', 'entropy', 'target']\n",
    "X, y = df.iloc[:,:4], df['target']\n",
    "\n",
    "#Для регрессии - Diabetes\n",
    "\n",
    "data = load_diabetes(as_frame=True)\n",
    "X, y = data['data'], data['target']"
   ]
  },
  {
   "cell_type": "code",
   "execution_count": 23,
   "id": "ba254e30",
   "metadata": {},
   "outputs": [
    {
     "data": {
      "text/plain": [
       "'MyLineReg class: n_iter=100, learning_rate=0.1'"
      ]
     },
     "execution_count": 23,
     "metadata": {},
     "output_type": "execute_result"
    }
   ],
   "source": [
    "# 2.1\n",
    "\n",
    "class MyLineReg:\n",
    "    \n",
    "    def __init__(self, n_iter=100, learning_rate=0.1, weights):\n",
    "        self.n_iter = n_iter\n",
    "        self.learning_rate = learning_rate\n",
    "        self.weights = weights\n",
    "        \n",
    "    def __str__(self):\n",
    "        return f'MyLineReg class: n_iter={self.n_iter}, learning_rate={self.learning_rate}'\n",
    "    \n",
    "    def fit(self, X, y, verbose=False):\n",
    "        self.X = X\n",
    "        \n",
    "        self.X[]\n",
    "\n",
    "f = MyLineReg()\n",
    "str(f)"
   ]
  }
 ],
 "metadata": {
  "kernelspec": {
   "display_name": "Python 3 (ipykernel)",
   "language": "python",
   "name": "python3"
  },
  "language_info": {
   "codemirror_mode": {
    "name": "ipython",
    "version": 3
   },
   "file_extension": ".py",
   "mimetype": "text/x-python",
   "name": "python",
   "nbconvert_exporter": "python",
   "pygments_lexer": "ipython3",
   "version": "3.10.9"
  }
 },
 "nbformat": 4,
 "nbformat_minor": 5
}
