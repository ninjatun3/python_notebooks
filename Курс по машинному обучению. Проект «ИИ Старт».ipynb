{
 "cells": [
  {
   "cell_type": "code",
   "execution_count": 182,
   "id": "125dd970",
   "metadata": {},
   "outputs": [],
   "source": [
    "import pandas as pd\n",
    "import numpy as np\n",
    "import sklearn as sk\n",
    "import seaborn as sns\n",
    "import matplotlib.pyplot as plt"
   ]
  },
  {
   "cell_type": "code",
   "execution_count": 10,
   "id": "3e2a6862",
   "metadata": {},
   "outputs": [
    {
     "name": "stdout",
     "output_type": "stream",
     "text": [
      "\n",
      "\n",
      "*\n",
      "**\n",
      "***\n",
      "****"
     ]
    }
   ],
   "source": [
    "# 3.2.2\n",
    "\n",
    "n = 5\n",
    "\n",
    "for i in range (0,n):\n",
    "    print(end='\\n')\n",
    "    for j in range(0,i):\n",
    "        print('*', end='')"
   ]
  },
  {
   "cell_type": "code",
   "execution_count": 13,
   "id": "7c5fd487",
   "metadata": {},
   "outputs": [
    {
     "data": {
      "text/plain": [
       "'e??tra'"
      ]
     },
     "execution_count": 13,
     "metadata": {},
     "output_type": "execute_result"
    }
   ],
   "source": [
    "# 3.2.3\n",
    "\n",
    "a = 'extra'\n",
    "b = a.replace('x', '??')\n",
    "\n",
    "b"
   ]
  },
  {
   "cell_type": "code",
   "execution_count": 15,
   "id": "1d7bce3a",
   "metadata": {},
   "outputs": [
    {
     "data": {
      "text/plain": [
       "6"
      ]
     },
     "execution_count": 15,
     "metadata": {},
     "output_type": "execute_result"
    }
   ],
   "source": [
    "# 3.2.4\n",
    "\n",
    "a = 'afbabgab'\n",
    "counter = 0\n",
    "for i in range(len(a)):\n",
    "    if a[i] == 'a':\n",
    "        for j in range(i, len(a)):\n",
    "            if a[j] == 'b':\n",
    "                counter += 1\n",
    "counter"
   ]
  },
  {
   "cell_type": "code",
   "execution_count": 20,
   "id": "5c6bd7db",
   "metadata": {},
   "outputs": [
    {
     "name": "stdout",
     "output_type": "stream",
     "text": [
      "2\n",
      "3\n",
      "5\n",
      "8\n"
     ]
    }
   ],
   "source": [
    "# 3.2.5\n",
    "\n",
    "n = 5\n",
    "a = b = 1\n",
    "\n",
    "for i in range(2,n+1):\n",
    "    a, b = b, a+b\n",
    "    print(b)"
   ]
  },
  {
   "cell_type": "code",
   "execution_count": 67,
   "id": "7f117b16",
   "metadata": {},
   "outputs": [
    {
     "data": {
      "text/plain": [
       "1"
      ]
     },
     "execution_count": 67,
     "metadata": {},
     "output_type": "execute_result"
    }
   ],
   "source": [
    "# 4.2.2\n",
    "\n",
    "def almost_double_factorial(n):\n",
    "    a = 1\n",
    "    if n>0 and n<=100:\n",
    "        for i in range (1, n+1, 2):\n",
    "            a *= i\n",
    "        return a\n",
    "    else:\n",
    "        return 1\n",
    "   \n",
    "almost_double_factorial(102)"
   ]
  },
  {
   "cell_type": "code",
   "execution_count": 68,
   "id": "e8198c03",
   "metadata": {},
   "outputs": [],
   "source": [
    "# 5.2.2\n",
    "\n",
    "class MyNum:\n",
    "    def __init__(self, num):\n",
    "        self.num = num\n",
    "    \n",
    "    def get_val(self):\n",
    "        return self.num\n",
    "    "
   ]
  },
  {
   "cell_type": "code",
   "execution_count": 71,
   "id": "72e4c771",
   "metadata": {},
   "outputs": [
    {
     "data": {
      "text/plain": [
       "0"
      ]
     },
     "execution_count": 71,
     "metadata": {},
     "output_type": "execute_result"
    }
   ],
   "source": [
    "# 6.2.1 линейная алгебра\n",
    "\n",
    "a = np.array([-5,6])\n",
    "b = np.array([6,5])\n",
    "\n",
    "np.dot(a,b)"
   ]
  },
  {
   "cell_type": "code",
   "execution_count": 80,
   "id": "fb49a85c",
   "metadata": {},
   "outputs": [
    {
     "data": {
      "text/plain": [
       "array([1. , 1.5, 2. ])"
      ]
     },
     "execution_count": 80,
     "metadata": {},
     "output_type": "execute_result"
    }
   ],
   "source": [
    "# 7.2.5\n",
    "\n",
    "import numpy as np\n",
    "\n",
    "def cumulative_mean(X):\n",
    "    cumsum = np.cumsum(X)\n",
    "    k = np.arange(1, len(X)+1, 1)\n",
    "    result = cumsum / k\n",
    "    return result\n",
    "\n",
    "#cumulative_mean([1,2,3])\n",
    "\n",
    "cumulative_mean([1,2,3])"
   ]
  },
  {
   "cell_type": "code",
   "execution_count": 88,
   "id": "6bb86f1f",
   "metadata": {},
   "outputs": [
    {
     "data": {
      "text/plain": [
       "[array([1. , 0.5]), array([3. , 1.5])]"
      ]
     },
     "execution_count": 88,
     "metadata": {},
     "output_type": "execute_result"
    }
   ],
   "source": [
    "# 7.2.6\n",
    "\n",
    "import numpy as np\n",
    "\n",
    "def cumulative_mean_2d(X):\n",
    "    cumsum = np.cumsum(X)\n",
    "    k = np.arange(1, len(X)+1, 1)\n",
    "    result = X\n",
    "    result[0], result[1] = (cumsum[0] / k), (cumsum[1] / k)\n",
    "    return result\n",
    "\n",
    "X2d = [[1,2,3], [4,5,6]]\n",
    "\n",
    "cumulative_mean_2d(X2d)\n",
    "\n"
   ]
  },
  {
   "cell_type": "code",
   "execution_count": 92,
   "id": "19767a58",
   "metadata": {},
   "outputs": [
    {
     "data": {
      "text/plain": [
       "array([27,  1, 64,  1,  8,  1,  0])"
      ]
     },
     "execution_count": 92,
     "metadata": {},
     "output_type": "execute_result"
    }
   ],
   "source": [
    "# 7.2.7\n",
    "\n",
    "X = np.array([3, 1, 4, -1, 2, 3, 0])\n",
    "\n",
    "def transform(X):\n",
    "    Y = X\n",
    "    for i in range(len(X)):\n",
    "        if i%2 == 0:\n",
    "            Y[i] = X[i]**3\n",
    "        else:\n",
    "            Y[i] = 1\n",
    "    return Y\n",
    "\n",
    "transform(X)"
   ]
  },
  {
   "cell_type": "code",
   "execution_count": 113,
   "id": "f7a0763b",
   "metadata": {},
   "outputs": [
    {
     "data": {
      "text/plain": [
       "12"
      ]
     },
     "execution_count": 113,
     "metadata": {},
     "output_type": "execute_result"
    }
   ],
   "source": [
    "# 7.2.8\n",
    "\n",
    "X = np.array([1,2,2,4,4,6,7,8,8]).reshape(3,3)\n",
    "\n",
    "def diag_2k(X):\n",
    "    res = 0\n",
    "    null = 0\n",
    "    Y = X.diagonal()\n",
    "    for item in Y:\n",
    "        if item%2 == 0:\n",
    "           res += item\n",
    "        else:\n",
    "            null += 1\n",
    "    if null<len(Y):\n",
    "        return res\n",
    "    else:\n",
    "        return 0\n",
    "\n",
    "diag_2k(X)"
   ]
  },
  {
   "cell_type": "code",
   "execution_count": 122,
   "id": "75dc4cd8",
   "metadata": {},
   "outputs": [
    {
     "data": {
      "text/plain": [
       "32.0"
      ]
     },
     "execution_count": 122,
     "metadata": {},
     "output_type": "execute_result"
    }
   ],
   "source": [
    "# 8.2.2\n",
    "\n",
    "v1 = np.array([1,2,3])\n",
    "v2 = np.array([4,5,6])\n",
    "\n",
    "def no_numpy_scalar(v1, v2):\n",
    "    res = float()\n",
    "    for i in range(len(v1)):\n",
    "        res += v1[i]*v2[i]\n",
    "    return res\n",
    "\n",
    "def numpy_scalar(v1, v2):\n",
    "    return np.dot(v1, v2)\n",
    "\n",
    "no_numpy_scalar(v1, v2)"
   ]
  },
  {
   "cell_type": "code",
   "execution_count": 184,
   "id": "d84d3e1e",
   "metadata": {},
   "outputs": [
    {
     "data": {
      "text/plain": [
       "array([[37, 40],\n",
       "       [85, 92]])"
      ]
     },
     "execution_count": 184,
     "metadata": {},
     "output_type": "execute_result"
    }
   ],
   "source": [
    "# 8.2.3\n",
    "\n",
    "'''\n",
    "m1 = 1  3  5\n",
    "     2  4  6\n",
    "     \n",
    "m2 = 11 14\n",
    "     12 15\n",
    "     13 16\n",
    "'''\n",
    "\n",
    "msq1 = [[1,2], [3,4], [5,6]]\n",
    "msq2 = [[11,12,13], [14,15,16]]\n",
    "\n",
    "m1 = [[1,2], [3,4]]\n",
    "m2 = [[11,12], [13,14]]\n",
    "\n",
    "# функция ручного перемножения произвольных матриц с проверкой условия перемножения\n",
    "def no_numpy_mult_all(first, second):    \n",
    "    \n",
    "    result = [[0 for i in range(len(first))] for i in range(len(first))]\n",
    "    a = int()\n",
    "    \n",
    "    if len(first) == len(second[0]) and len(first[0])==len(second):\n",
    "        for i in range(len(first)):\n",
    "            for j in range(len(second[0])):\n",
    "                for k in range(len(second)):\n",
    "                    result[i][j] += first[i][k]*second[k][j]\n",
    "        return result   \n",
    "    else:\n",
    "        print('not equal sizes')\n",
    "\n",
    "# функция ручного перемножения квадратных матриц\n",
    "def no_numpy_mult(first, second):    \n",
    "    \n",
    "    a = int()\n",
    "    length = len(first)\n",
    "    result = [[0 for i in range(length)] for i in range(length)]\n",
    "    \n",
    "    for i in range(length):\n",
    "        for j in range(length):\n",
    "            for k in range(length):\n",
    "                result[i][j] += first[i][k]*second[k][j]\n",
    "    return result   \n",
    "    \n",
    "    \n",
    "def numpy_mult(first, second):\n",
    "     return np.dot(first, second)\n",
    "\n",
    "#no_numpy_mult(m1, m2)\n",
    "numpy_mult(m1, m2)"
   ]
  },
  {
   "cell_type": "code",
   "execution_count": 185,
   "id": "9cf1ae89",
   "metadata": {},
   "outputs": [],
   "source": [
    "# 8.2.4\n",
    "\n",
    "def calculate_loss_function(X, w, y):              \n",
    "    return (np.linalg.norm((np.dot(X, w) - y), ord=2))**2"
   ]
  },
  {
   "cell_type": "code",
   "execution_count": 187,
   "id": "2ce25ee3",
   "metadata": {},
   "outputs": [],
   "source": [
    "# 8.2.5\n",
    "\n",
    "# W = (X⊤ X)−1 * X⊤ * y\n",
    "\n",
    "import numpy as np\n",
    "\n",
    "def solve_linear_regression(X, y):\n",
    "    \n",
    "    XT = X.transpose()\n",
    "    XTX = np.dot(XT, X)\n",
    "    \n",
    "    XTX_1 = np.linalg.inv(XTX)\n",
    "    XT_y = np.dot(XT, y)\n",
    "    w_opt = np.dot(XTX_1, XT_y)\n",
    "\n",
    "    return w_opt\n",
    "\n",
    "\n",
    "def solve_linear_regression(X, y):\n",
    "    return np.dot(np.linalg.inv(np.dot(X.transpose(), X)), np.dot(X.transpose(), y))"
   ]
  },
  {
   "cell_type": "code",
   "execution_count": 192,
   "id": "28761d76",
   "metadata": {},
   "outputs": [
    {
     "data": {
      "text/plain": [
       "-0.6666666666666666"
      ]
     },
     "execution_count": 192,
     "metadata": {},
     "output_type": "execute_result"
    }
   ],
   "source": [
    "# 9.2.1\n",
    "\n",
    "x = (0-1) / 3\n",
    "x = (0-2) / 3\n",
    "x"
   ]
  },
  {
   "cell_type": "code",
   "execution_count": 194,
   "id": "650826fb",
   "metadata": {},
   "outputs": [
    {
     "data": {
      "text/plain": [
       "0.05555555555555555"
      ]
     },
     "execution_count": 194,
     "metadata": {},
     "output_type": "execute_result"
    }
   ],
   "source": [
    "# 9.2.2\n",
    "\n",
    "a = 0\n",
    "x = 0\n",
    "\n",
    "for i in range(10,100):\n",
    "    a += 1\n",
    "    if (i%10 + i//10 == 5):\n",
    "        x += 1\n",
    "        \n",
    "x/a"
   ]
  },
  {
   "cell_type": "code",
   "execution_count": 197,
   "id": "b56f1296",
   "metadata": {},
   "outputs": [
    {
     "data": {
      "text/plain": [
       "0.875"
      ]
     },
     "execution_count": 197,
     "metadata": {},
     "output_type": "execute_result"
    }
   ],
   "source": [
    "# 9.2.3\n",
    "\n",
    "# A U B = A + B - AB\n",
    "# A = B = C = 0.5\n",
    "\n",
    "AuB = 1/2 + 1/2 - (1/2)*(1/2)\n",
    "AuBuC = 0.75 + 0.5 - 0.75*0.5\n",
    "AuBuC"
   ]
  },
  {
   "cell_type": "code",
   "execution_count": 199,
   "id": "73c01e29",
   "metadata": {},
   "outputs": [
    {
     "data": {
      "text/plain": [
       "0.44994354248046875"
      ]
     },
     "execution_count": 199,
     "metadata": {},
     "output_type": "execute_result"
    }
   ],
   "source": [
    "# 9.2.4\n",
    "\n",
    "'''\n",
    "8 партий\n",
    "0.75 вероятность ничьи\n",
    "0.125 вероятность победы\n",
    "вероятность что П выиграет первым\n",
    "'''\n",
    "\n",
    "s = 0\n",
    "for i in range(8):\n",
    "    s += ((3/4) ** i) * (1/8)\n",
    "s"
   ]
  },
  {
   "cell_type": "code",
   "execution_count": 209,
   "id": "ec10a8e2",
   "metadata": {},
   "outputs": [
    {
     "data": {
      "text/plain": [
       "49"
      ]
     },
     "execution_count": 209,
     "metadata": {},
     "output_type": "execute_result"
    }
   ],
   "source": [
    "# 9.2.5\n",
    "\n",
    "'''\n",
    "3 присяжных\n",
    "100 дел\n",
    "0.3 вероятность ошибки\n",
    "0.7 вероятность правильного решения\n",
    "\n",
    "вероятность что все одновременно правы (умножение)  + вероятность что правы 2 из 3 (большинство), \n",
    "все это умножить на количество экспериментов (дел)\n",
    "'''\n",
    "\n",
    "round((0.7*0.7*0.7 + 0.3*0.7*0.7) * 100)"
   ]
  },
  {
   "cell_type": "code",
   "execution_count": 219,
   "id": "4048a6a3",
   "metadata": {},
   "outputs": [
    {
     "data": {
      "text/plain": [
       "11.0"
      ]
     },
     "execution_count": 219,
     "metadata": {},
     "output_type": "execute_result"
    }
   ],
   "source": [
    "# 9.2.6\n",
    "\n",
    "# набор купюр\n",
    "bank = [1,2,3,4,5,6,7,8,9,10]\n",
    "\n",
    "# количество извлекаемых купюр\n",
    "k = 2\n",
    "\n",
    "np.mean(bank) * k"
   ]
  },
  {
   "cell_type": "code",
   "execution_count": 220,
   "id": "bf1b6a37",
   "metadata": {},
   "outputs": [
    {
     "data": {
      "text/plain": [
       "2.0"
      ]
     },
     "execution_count": 220,
     "metadata": {},
     "output_type": "execute_result"
    }
   ],
   "source": [
    "# 9.2.7\n",
    "\n",
    "a = [1, 2, 3, 4, 5, 6, 7]\n",
    "\n",
    "np.std(a)"
   ]
  },
  {
   "cell_type": "code",
   "execution_count": 221,
   "id": "cb894b81",
   "metadata": {},
   "outputs": [
    {
     "data": {
      "text/plain": [
       "array([[1.        , 0.82285841],\n",
       "       [0.82285841, 1.        ]])"
      ]
     },
     "execution_count": 221,
     "metadata": {},
     "output_type": "execute_result"
    }
   ],
   "source": [
    "# 9.2.8\n",
    "\n",
    "a = [1,3,-3,2,4,8]\n",
    "b = [-2,3,0,1,3,6]\n",
    "\n",
    "np.corrcoef(a,b)"
   ]
  },
  {
   "cell_type": "code",
   "execution_count": 225,
   "id": "2d58f46a",
   "metadata": {},
   "outputs": [
    {
     "data": {
      "text/html": [
       "<div>\n",
       "<style scoped>\n",
       "    .dataframe tbody tr th:only-of-type {\n",
       "        vertical-align: middle;\n",
       "    }\n",
       "\n",
       "    .dataframe tbody tr th {\n",
       "        vertical-align: top;\n",
       "    }\n",
       "\n",
       "    .dataframe thead th {\n",
       "        text-align: right;\n",
       "    }\n",
       "</style>\n",
       "<table border=\"1\" class=\"dataframe\">\n",
       "  <thead>\n",
       "    <tr style=\"text-align: right;\">\n",
       "      <th></th>\n",
       "      <th>a</th>\n",
       "      <th>‘b’</th>\n",
       "      <th>‘c’</th>\n",
       "    </tr>\n",
       "  </thead>\n",
       "  <tbody>\n",
       "    <tr>\n",
       "      <th>1</th>\n",
       "      <td>1</td>\n",
       "      <td>5</td>\n",
       "      <td>9</td>\n",
       "    </tr>\n",
       "    <tr>\n",
       "      <th>2</th>\n",
       "      <td>2</td>\n",
       "      <td>6</td>\n",
       "      <td>10</td>\n",
       "    </tr>\n",
       "    <tr>\n",
       "      <th>3</th>\n",
       "      <td>3</td>\n",
       "      <td>7</td>\n",
       "      <td>11</td>\n",
       "    </tr>\n",
       "    <tr>\n",
       "      <th>4</th>\n",
       "      <td>4</td>\n",
       "      <td>8</td>\n",
       "      <td>12</td>\n",
       "    </tr>\n",
       "  </tbody>\n",
       "</table>\n",
       "</div>"
      ],
      "text/plain": [
       "   a  ‘b’  ‘c’\n",
       "1  1    5    9\n",
       "2  2    6   10\n",
       "3  3    7   11\n",
       "4  4    8   12"
      ]
     },
     "execution_count": 225,
     "metadata": {},
     "output_type": "execute_result"
    }
   ],
   "source": [
    "# 10.2.1 pandas\n",
    "\n",
    "df = pd.DataFrame({'a': [1,2,3,4], '‘b’': [5,6,7,8], '‘c’': [9,10,11,12]}, index=[1,2,3,4])\n",
    "\n",
    "df"
   ]
  },
  {
   "cell_type": "code",
   "execution_count": 227,
   "id": "1a010132",
   "metadata": {
    "scrolled": true
   },
   "outputs": [
    {
     "ename": "AttributeError",
     "evalue": "'DataFrame' object has no attribute 'rating'",
     "output_type": "error",
     "traceback": [
      "\u001b[0;31m---------------------------------------------------------------------------\u001b[0m",
      "\u001b[0;31mAttributeError\u001b[0m                            Traceback (most recent call last)",
      "Cell \u001b[0;32mIn[227], line 4\u001b[0m\n\u001b[1;32m      1\u001b[0m \u001b[38;5;66;03m# 10.2.2\u001b[39;00m\n\u001b[1;32m      2\u001b[0m ratings \u001b[38;5;241m=\u001b[39m pd\u001b[38;5;241m.\u001b[39mDataFrame()\n\u001b[0;32m----> 4\u001b[0m \u001b[43mratings\u001b[49m\u001b[38;5;241;43m.\u001b[39;49m\u001b[43mrating\u001b[49m\u001b[38;5;241m.\u001b[39mmax()\n",
      "File \u001b[0;32m~/anaconda3/lib/python3.10/site-packages/pandas/core/generic.py:5902\u001b[0m, in \u001b[0;36mNDFrame.__getattr__\u001b[0;34m(self, name)\u001b[0m\n\u001b[1;32m   5895\u001b[0m \u001b[38;5;28;01mif\u001b[39;00m (\n\u001b[1;32m   5896\u001b[0m     name \u001b[38;5;129;01mnot\u001b[39;00m \u001b[38;5;129;01min\u001b[39;00m \u001b[38;5;28mself\u001b[39m\u001b[38;5;241m.\u001b[39m_internal_names_set\n\u001b[1;32m   5897\u001b[0m     \u001b[38;5;129;01mand\u001b[39;00m name \u001b[38;5;129;01mnot\u001b[39;00m \u001b[38;5;129;01min\u001b[39;00m \u001b[38;5;28mself\u001b[39m\u001b[38;5;241m.\u001b[39m_metadata\n\u001b[1;32m   5898\u001b[0m     \u001b[38;5;129;01mand\u001b[39;00m name \u001b[38;5;129;01mnot\u001b[39;00m \u001b[38;5;129;01min\u001b[39;00m \u001b[38;5;28mself\u001b[39m\u001b[38;5;241m.\u001b[39m_accessors\n\u001b[1;32m   5899\u001b[0m     \u001b[38;5;129;01mand\u001b[39;00m \u001b[38;5;28mself\u001b[39m\u001b[38;5;241m.\u001b[39m_info_axis\u001b[38;5;241m.\u001b[39m_can_hold_identifiers_and_holds_name(name)\n\u001b[1;32m   5900\u001b[0m ):\n\u001b[1;32m   5901\u001b[0m     \u001b[38;5;28;01mreturn\u001b[39;00m \u001b[38;5;28mself\u001b[39m[name]\n\u001b[0;32m-> 5902\u001b[0m \u001b[38;5;28;01mreturn\u001b[39;00m \u001b[38;5;28;43mobject\u001b[39;49m\u001b[38;5;241;43m.\u001b[39;49m\u001b[38;5;21;43m__getattribute__\u001b[39;49m\u001b[43m(\u001b[49m\u001b[38;5;28;43mself\u001b[39;49m\u001b[43m,\u001b[49m\u001b[43m \u001b[49m\u001b[43mname\u001b[49m\u001b[43m)\u001b[49m\n",
      "\u001b[0;31mAttributeError\u001b[0m: 'DataFrame' object has no attribute 'rating'"
     ]
    }
   ],
   "source": [
    "# 10.2.2\n",
    "\n",
    "ratings.rating.max()"
   ]
  },
  {
   "cell_type": "code",
   "execution_count": 231,
   "id": "8b2eb45f",
   "metadata": {},
   "outputs": [
    {
     "data": {
      "text/plain": [
       "array([628, 843,  65,  26,  15])"
      ]
     },
     "execution_count": 231,
     "metadata": {},
     "output_type": "execute_result"
    }
   ],
   "source": [
    "# 10.2.3\n",
    "\n",
    "Video_blog_DF = pd.DataFrame({'Duration': [275, 383, 628, 712],\n",
    "                             'Views': [305, 629, 843, 726],\n",
    "                             'Likes':[23, 78, 65, 90],\n",
    "                             'Dislikes':[5, 12, 26, 10],\n",
    "                             'Comments':[2, 6, 15, 28]})\n",
    "\n",
    "Video_blog_DF.iloc[2].values"
   ]
  },
  {
   "cell_type": "code",
   "execution_count": 276,
   "id": "faf20215",
   "metadata": {},
   "outputs": [
    {
     "data": {
      "text/plain": [
       "0-17      14707\n",
       "55+       20903\n",
       "51-55     37618\n",
       "46-50     44526\n",
       "18-25     97634\n",
       "36-45    107499\n",
       "26-35    214690\n",
       "Name: Age, dtype: int64"
      ]
     },
     "execution_count": 276,
     "metadata": {},
     "output_type": "execute_result"
    }
   ],
   "source": [
    "# 11 pandas\n",
    "\n",
    "df = pd.read_csv('/home/kir/Загрузки/BlackFriday.csv')\n",
    "df.Age.value_counts().sort_values()"
   ]
  },
  {
   "cell_type": "code",
   "execution_count": 286,
   "id": "02dc6fa0",
   "metadata": {},
   "outputs": [
    {
     "data": {
      "text/plain": [
       "User_ID    0.40772\n",
       "dtype: float64"
      ]
     },
     "execution_count": 286,
     "metadata": {},
     "output_type": "execute_result"
    }
   ],
   "source": [
    "df.Age.nunique()\n",
    "df.query('City_Category==\"A\" & Gender==\"M\"').count()\n",
    "df.query('Gender==\"F\" & Age==\"46-50\" & Purchase>20000').count()\n",
    "df['Product_Category_3'].isna().sum()\n",
    "(df.loc[((df['Age'] == '26-35') & (df['Gender']=='M'))].agg({'User_ID': 'count'})\\\n",
    "+ df.loc[((df['Age'] == '36-45') & (df['Gender']=='F'))].agg({'User_ID': 'count'})\\\n",
    "+ df.loc[((df['Age'] == '46-50') & (df['Gender']=='F'))].agg({'User_ID': 'count'})\\\n",
    "+ df.loc[((df['Age'] == '51-55') & (df['Gender']=='F'))].agg({'User_ID': 'count'})\\\n",
    "+ df.loc[((df['Age'] == '55+') & (df['Gender']=='F'))].agg({'User_ID': 'count'}))\\\n",
    "/ df['User_ID'].count()"
   ]
  },
  {
   "cell_type": "code",
   "execution_count": 291,
   "id": "6023ab85",
   "metadata": {},
   "outputs": [
    {
     "data": {
      "text/plain": [
       "15.8"
      ]
     },
     "execution_count": 291,
     "metadata": {},
     "output_type": "execute_result"
    }
   ],
   "source": [
    "# 12 machine learning\n",
    "\n",
    "from sklearn import metrics\n",
    "\n",
    "y_true = [1, 0, 0, 1, 1, 1, 0, 0, 0, 1]\n",
    "y_pred = [1, 1, 1, 0, 1, 1, 1, 0, 0, 1]\n",
    "metrics.accuracy_score(y_true, y_pred)\n",
    "\n",
    "y_true = [25, 60, 32, 16, 21]\n",
    "y_pred = [30, 59, 36, 22, 22]\n",
    "metrics.mean_squared_error(y_true, y_pred)"
   ]
  },
  {
   "cell_type": "code",
   "execution_count": 292,
   "id": "d1315416",
   "metadata": {},
   "outputs": [
    {
     "data": {
      "text/html": [
       "<div>\n",
       "<style scoped>\n",
       "    .dataframe tbody tr th:only-of-type {\n",
       "        vertical-align: middle;\n",
       "    }\n",
       "\n",
       "    .dataframe tbody tr th {\n",
       "        vertical-align: top;\n",
       "    }\n",
       "\n",
       "    .dataframe thead th {\n",
       "        text-align: right;\n",
       "    }\n",
       "</style>\n",
       "<table border=\"1\" class=\"dataframe\">\n",
       "  <thead>\n",
       "    <tr style=\"text-align: right;\">\n",
       "      <th></th>\n",
       "      <th>0</th>\n",
       "      <th>1</th>\n",
       "      <th>2</th>\n",
       "      <th>3</th>\n",
       "      <th>4</th>\n",
       "      <th>5</th>\n",
       "      <th>6</th>\n",
       "      <th>7</th>\n",
       "      <th>8</th>\n",
       "      <th>9</th>\n",
       "      <th>...</th>\n",
       "      <th>45</th>\n",
       "      <th>46</th>\n",
       "      <th>47</th>\n",
       "      <th>48</th>\n",
       "      <th>49</th>\n",
       "      <th>50</th>\n",
       "      <th>51</th>\n",
       "      <th>52</th>\n",
       "      <th>53</th>\n",
       "      <th>54</th>\n",
       "    </tr>\n",
       "  </thead>\n",
       "  <tbody>\n",
       "    <tr>\n",
       "      <th>0</th>\n",
       "      <td>2683</td>\n",
       "      <td>333</td>\n",
       "      <td>35</td>\n",
       "      <td>30</td>\n",
       "      <td>26</td>\n",
       "      <td>2743</td>\n",
       "      <td>121</td>\n",
       "      <td>173</td>\n",
       "      <td>179</td>\n",
       "      <td>6572</td>\n",
       "      <td>...</td>\n",
       "      <td>0</td>\n",
       "      <td>0</td>\n",
       "      <td>0</td>\n",
       "      <td>0</td>\n",
       "      <td>0</td>\n",
       "      <td>0</td>\n",
       "      <td>0</td>\n",
       "      <td>0</td>\n",
       "      <td>0</td>\n",
       "      <td>2</td>\n",
       "    </tr>\n",
       "    <tr>\n",
       "      <th>1</th>\n",
       "      <td>2915</td>\n",
       "      <td>90</td>\n",
       "      <td>8</td>\n",
       "      <td>216</td>\n",
       "      <td>11</td>\n",
       "      <td>4433</td>\n",
       "      <td>232</td>\n",
       "      <td>228</td>\n",
       "      <td>129</td>\n",
       "      <td>4019</td>\n",
       "      <td>...</td>\n",
       "      <td>0</td>\n",
       "      <td>0</td>\n",
       "      <td>0</td>\n",
       "      <td>0</td>\n",
       "      <td>0</td>\n",
       "      <td>0</td>\n",
       "      <td>0</td>\n",
       "      <td>0</td>\n",
       "      <td>0</td>\n",
       "      <td>1</td>\n",
       "    </tr>\n",
       "    <tr>\n",
       "      <th>2</th>\n",
       "      <td>2941</td>\n",
       "      <td>162</td>\n",
       "      <td>7</td>\n",
       "      <td>698</td>\n",
       "      <td>76</td>\n",
       "      <td>2783</td>\n",
       "      <td>227</td>\n",
       "      <td>242</td>\n",
       "      <td>148</td>\n",
       "      <td>1784</td>\n",
       "      <td>...</td>\n",
       "      <td>0</td>\n",
       "      <td>0</td>\n",
       "      <td>0</td>\n",
       "      <td>0</td>\n",
       "      <td>0</td>\n",
       "      <td>0</td>\n",
       "      <td>0</td>\n",
       "      <td>0</td>\n",
       "      <td>0</td>\n",
       "      <td>2</td>\n",
       "    </tr>\n",
       "    <tr>\n",
       "      <th>3</th>\n",
       "      <td>3096</td>\n",
       "      <td>60</td>\n",
       "      <td>17</td>\n",
       "      <td>170</td>\n",
       "      <td>3</td>\n",
       "      <td>3303</td>\n",
       "      <td>231</td>\n",
       "      <td>202</td>\n",
       "      <td>99</td>\n",
       "      <td>5370</td>\n",
       "      <td>...</td>\n",
       "      <td>0</td>\n",
       "      <td>0</td>\n",
       "      <td>0</td>\n",
       "      <td>0</td>\n",
       "      <td>0</td>\n",
       "      <td>0</td>\n",
       "      <td>0</td>\n",
       "      <td>0</td>\n",
       "      <td>0</td>\n",
       "      <td>1</td>\n",
       "    </tr>\n",
       "    <tr>\n",
       "      <th>4</th>\n",
       "      <td>2999</td>\n",
       "      <td>66</td>\n",
       "      <td>8</td>\n",
       "      <td>488</td>\n",
       "      <td>37</td>\n",
       "      <td>1532</td>\n",
       "      <td>228</td>\n",
       "      <td>225</td>\n",
       "      <td>131</td>\n",
       "      <td>2290</td>\n",
       "      <td>...</td>\n",
       "      <td>0</td>\n",
       "      <td>0</td>\n",
       "      <td>0</td>\n",
       "      <td>0</td>\n",
       "      <td>0</td>\n",
       "      <td>0</td>\n",
       "      <td>0</td>\n",
       "      <td>0</td>\n",
       "      <td>0</td>\n",
       "      <td>2</td>\n",
       "    </tr>\n",
       "  </tbody>\n",
       "</table>\n",
       "<p>5 rows × 55 columns</p>\n",
       "</div>"
      ],
      "text/plain": [
       "      0    1   2    3   4     5    6    7    8     9  ...  45  46  47  48  49  \\\n",
       "0  2683  333  35   30  26  2743  121  173  179  6572  ...   0   0   0   0   0   \n",
       "1  2915   90   8  216  11  4433  232  228  129  4019  ...   0   0   0   0   0   \n",
       "2  2941  162   7  698  76  2783  227  242  148  1784  ...   0   0   0   0   0   \n",
       "3  3096   60  17  170   3  3303  231  202   99  5370  ...   0   0   0   0   0   \n",
       "4  2999   66   8  488  37  1532  228  225  131  2290  ...   0   0   0   0   0   \n",
       "\n",
       "   50  51  52  53  54  \n",
       "0   0   0   0   0   2  \n",
       "1   0   0   0   0   1  \n",
       "2   0   0   0   0   2  \n",
       "3   0   0   0   0   1  \n",
       "4   0   0   0   0   2  \n",
       "\n",
       "[5 rows x 55 columns]"
      ]
     },
     "execution_count": 292,
     "metadata": {},
     "output_type": "execute_result"
    }
   ],
   "source": [
    "# 13 machine learning pipeline\n",
    "\n",
    "df = pd.read_csv('/home/kir/Загрузки/forest_dataset.csv')\n",
    "df.head()"
   ]
  },
  {
   "cell_type": "code",
   "execution_count": null,
   "id": "02bcdf5c",
   "metadata": {
    "scrolled": false
   },
   "outputs": [],
   "source": [
    "from sklearn.model_selection import train_test_split\n",
    "from sklearn.linear_model import LogisticRegression\n",
    "from sklearn.model_selection import GridSearchCV\n",
    "from sklearn.metrics import accuracy_score\n",
    "\n",
    "# отделить метки класса и признаки\n",
    "labels = df[df.columns[-1]].values\n",
    "feature_matrix = df[df.columns[:-1]].values\n",
    "\n",
    "# разбить на обучающую и тестовую\n",
    "train_feature_matrix, test_feature_matrix, train_labels, test_labels = train_test_split(\n",
    "    feature_matrix, labels, test_size=0.5, random_state=0)\n",
    "\n",
    "# создаем модель лог. регрессии\n",
    "clf = LogisticRegression(C=1)\n",
    "clf.fit(train_feature_matrix, train_labels)\n",
    "y_pred = clf.predict(test_feature_matrix)\n",
    "\n",
    "# считаем качество модели\n",
    "accuracy_score(test_labels, y_pred)\n",
    "\n",
    "# создаем новую модель с другим решателем сага норен полиция мальмё\n",
    "clf = LogisticRegression(solver='saga')\n",
    "\n",
    "# опишем сетку параметров\n",
    "param_grid = {\n",
    "    'C': np.arange(1,5),\n",
    "    'penalty': ['l1', 'l2']\n",
    "}\n",
    "\n",
    "# создаем модель подбора лучших параметров\n",
    "search = GridSearchCV(clf, param_grid, n_jobs=-1, cv=5, refit=True, scoring='accuracy')\n",
    "search.fit(feature_matrix, labels)\n",
    "search.best_params_"
   ]
  },
  {
   "cell_type": "code",
   "execution_count": 307,
   "id": "7464397f",
   "metadata": {},
   "outputs": [
    {
     "data": {
      "text/plain": [
       "0.7082"
      ]
     },
     "execution_count": 307,
     "metadata": {},
     "output_type": "execute_result"
    }
   ],
   "source": [
    "# создаем модель k-ближайших соседей\n",
    "\n",
    "from sklearn.neighbors import KNeighborsClassifier\n",
    "\n",
    "clf = KNeighborsClassifier()\n",
    "clf.fit(train_feature_matrix, train_labels)\n",
    "y_pred = clf.predict(test_feature_matrix)\n",
    "\n",
    "# считаем качество модели\n",
    "accuracy_score(test_labels, y_pred)"
   ]
  },
  {
   "cell_type": "code",
   "execution_count": null,
   "id": "46103b5b",
   "metadata": {},
   "outputs": [],
   "source": [
    "# подберем оптимальные параметры для модели\n",
    "\n",
    "# опишем сетку параметров\n",
    "param_grid = {\n",
    "    'n_neighbors': np.arange(1,10),\n",
    "    'metric': ['manhattan', 'euclidean'],\n",
    "    'weights': ['uniform', 'distance']\n",
    "}\n",
    "\n",
    "# создаем модель подбора лучших параметров\n",
    "search = GridSearchCV(clf, param_grid, n_jobs=-1, cv=5, scoring='accuracy')\n",
    "search.fit(feature_matrix, labels)\n",
    "search.best_params_"
   ]
  },
  {
   "cell_type": "code",
   "execution_count": 310,
   "id": "d65670f0",
   "metadata": {},
   "outputs": [
    {
     "data": {
      "text/plain": [
       "array([0.3676, 0.4862, 0.062 , 0.0052, 0.0156, 0.0336, 0.0298])"
      ]
     },
     "execution_count": 310,
     "metadata": {},
     "output_type": "execute_result"
    }
   ],
   "source": [
    "# оценить вероятность отнесения к тому или иному классу, посчитать среднее для каждого класса\n",
    "\n",
    "search.predict_proba(train_feature_matrix).mean(axis=0)"
   ]
  },
  {
   "cell_type": "code",
   "execution_count": 312,
   "id": "f3c2206c",
   "metadata": {},
   "outputs": [
    {
     "data": {
      "text/html": [
       "<div>\n",
       "<style scoped>\n",
       "    .dataframe tbody tr th:only-of-type {\n",
       "        vertical-align: middle;\n",
       "    }\n",
       "\n",
       "    .dataframe tbody tr th {\n",
       "        vertical-align: top;\n",
       "    }\n",
       "\n",
       "    .dataframe thead th {\n",
       "        text-align: right;\n",
       "    }\n",
       "</style>\n",
       "<table border=\"1\" class=\"dataframe\">\n",
       "  <thead>\n",
       "    <tr style=\"text-align: right;\">\n",
       "      <th></th>\n",
       "      <th>species</th>\n",
       "      <th>island</th>\n",
       "      <th>bill_length_mm</th>\n",
       "      <th>bill_depth_mm</th>\n",
       "      <th>flipper_length_mm</th>\n",
       "      <th>body_mass_g</th>\n",
       "      <th>sex</th>\n",
       "    </tr>\n",
       "  </thead>\n",
       "  <tbody>\n",
       "    <tr>\n",
       "      <th>0</th>\n",
       "      <td>Adelie</td>\n",
       "      <td>Torgersen</td>\n",
       "      <td>39.1</td>\n",
       "      <td>18.7</td>\n",
       "      <td>181.0</td>\n",
       "      <td>3750.0</td>\n",
       "      <td>MALE</td>\n",
       "    </tr>\n",
       "    <tr>\n",
       "      <th>1</th>\n",
       "      <td>Adelie</td>\n",
       "      <td>Torgersen</td>\n",
       "      <td>39.5</td>\n",
       "      <td>17.4</td>\n",
       "      <td>186.0</td>\n",
       "      <td>3800.0</td>\n",
       "      <td>FEMALE</td>\n",
       "    </tr>\n",
       "    <tr>\n",
       "      <th>2</th>\n",
       "      <td>Adelie</td>\n",
       "      <td>Torgersen</td>\n",
       "      <td>40.3</td>\n",
       "      <td>18.0</td>\n",
       "      <td>195.0</td>\n",
       "      <td>3250.0</td>\n",
       "      <td>FEMALE</td>\n",
       "    </tr>\n",
       "    <tr>\n",
       "      <th>3</th>\n",
       "      <td>Adelie</td>\n",
       "      <td>Torgersen</td>\n",
       "      <td>NaN</td>\n",
       "      <td>NaN</td>\n",
       "      <td>NaN</td>\n",
       "      <td>NaN</td>\n",
       "      <td>NaN</td>\n",
       "    </tr>\n",
       "    <tr>\n",
       "      <th>4</th>\n",
       "      <td>Adelie</td>\n",
       "      <td>Torgersen</td>\n",
       "      <td>36.7</td>\n",
       "      <td>19.3</td>\n",
       "      <td>193.0</td>\n",
       "      <td>3450.0</td>\n",
       "      <td>FEMALE</td>\n",
       "    </tr>\n",
       "  </tbody>\n",
       "</table>\n",
       "</div>"
      ],
      "text/plain": [
       "  species     island  bill_length_mm  bill_depth_mm  flipper_length_mm  \\\n",
       "0  Adelie  Torgersen            39.1           18.7              181.0   \n",
       "1  Adelie  Torgersen            39.5           17.4              186.0   \n",
       "2  Adelie  Torgersen            40.3           18.0              195.0   \n",
       "3  Adelie  Torgersen             NaN            NaN                NaN   \n",
       "4  Adelie  Torgersen            36.7           19.3              193.0   \n",
       "\n",
       "   body_mass_g     sex  \n",
       "0       3750.0    MALE  \n",
       "1       3800.0  FEMALE  \n",
       "2       3250.0  FEMALE  \n",
       "3          NaN     NaN  \n",
       "4       3450.0  FEMALE  "
      ]
     },
     "execution_count": 312,
     "metadata": {},
     "output_type": "execute_result"
    }
   ],
   "source": [
    "# 14 linear regression\n",
    "\n",
    "\n",
    "df = pd.read_csv('/home/kir/Загрузки/penguins.csv')\n",
    "df.head()"
   ]
  },
  {
   "cell_type": "code",
   "execution_count": 358,
   "id": "dbf6f0ea",
   "metadata": {},
   "outputs": [
    {
     "data": {
      "text/plain": [
       "array([1, 1, 1, 2, 3, 4, 5, 6, 7])"
      ]
     },
     "execution_count": 358,
     "metadata": {},
     "output_type": "execute_result"
    }
   ],
   "source": [
    "X = [[2,3,4], [5,6,7]]\n",
    "y = [8,9,10]\n",
    "\n",
    "X = np.array(X)\n",
    "\n",
    "#X = np.insert(X, 0, np.full(len(X[0]), 1))\n",
    "\n",
    "X = np.insert(X, 0, np.ones(len(X[0])))\n",
    "X"
   ]
  },
  {
   "cell_type": "code",
   "execution_count": null,
   "id": "074bba6e",
   "metadata": {},
   "outputs": [],
   "source": [
    "import numpy as np\n",
    "from sklearn.linear_model import LogisticRegression\n",
    "from sklearn.model_selection import GridSearchCV\n",
    "from sklearn.metrics import accuracy_score\n",
    "\n",
    "'''\n",
    "X = 2 5\n",
    "    3 6\n",
    "    4 7\n",
    "    \n",
    "y = 8\n",
    "    9\n",
    "    10\n",
    "'''\n",
    "\n",
    "X = [[2,3,4], [5,6,7]]\n",
    "y = [8,9,10]\n",
    "\n",
    "class MyLinearRegression:\n",
    "    def __init__(self):\n",
    "\n",
    "        self.coef_ = None\n",
    "        self.intercept_ = None\n",
    "\n",
    "    def fit(self, X, y):\n",
    "        X = np.array(X)\n",
    "        y = np.array(y)\n",
    "        \n",
    "        # k = (XT X)-1 XT Y\n",
    "        XT = X.transpose()\n",
    "        XTX = np.dot(XT, X)\n",
    "\n",
    "        XTX_1 = np.linalg.inv(XTX)\n",
    "        XT_y = np.dot(XT, y)\n",
    "        w_opt = np.dot(XTX_1, XT_y)\n",
    "\n",
    "        self.coef_ = \n",
    "        # коэффициент — свободный член.\n",
    "        self.intercept_ = \n",
    "\n",
    "    def predict(self, X):\n",
    "        pass #Можно оставить пустым"
   ]
  },
  {
   "cell_type": "code",
   "execution_count": null,
   "id": "c6288334",
   "metadata": {},
   "outputs": [],
   "source": []
  }
 ],
 "metadata": {
  "kernelspec": {
   "display_name": "Python 3 (ipykernel)",
   "language": "python",
   "name": "python3"
  },
  "language_info": {
   "codemirror_mode": {
    "name": "ipython",
    "version": 3
   },
   "file_extension": ".py",
   "mimetype": "text/x-python",
   "name": "python",
   "nbconvert_exporter": "python",
   "pygments_lexer": "ipython3",
   "version": "3.10.9"
  }
 },
 "nbformat": 4,
 "nbformat_minor": 5
}
