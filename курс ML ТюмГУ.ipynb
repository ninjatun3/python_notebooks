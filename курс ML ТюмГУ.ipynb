{
 "cells": [
  {
   "cell_type": "markdown",
   "id": "3defdf79",
   "metadata": {},
   "source": [
    "курс машинное обучение ТюмГУ"
   ]
  },
  {
   "cell_type": "code",
   "execution_count": 57,
   "id": "fdf4eb85",
   "metadata": {},
   "outputs": [],
   "source": [
    "import pandas as pd\n",
    "import numpy as np\n",
    "import sklearn as sk\n",
    "import seaborn as sns\n",
    "\n",
    "from scipy.spatial import distance\n",
    "from sklearn.preprocessing import normalize\n",
    "from sklearn.metrics import mean_absolute_error\n",
    "from sklearn.metrics import mean_absolute_percentage_error\n",
    "from sklearn.linear_model import LinearRegression\n",
    "from sklearn.linear_model import Ridge"
   ]
  },
  {
   "cell_type": "code",
   "execution_count": 36,
   "id": "a648a4b6",
   "metadata": {},
   "outputs": [
    {
     "data": {
      "text/plain": [
       "1.6733200530681511"
      ]
     },
     "execution_count": 36,
     "metadata": {},
     "output_type": "execute_result"
    }
   ],
   "source": [
    "p1 = np.array([1,0,5,2,2])\n",
    "\n",
    "(p1 - min(p1)) / (max(p1) - min(p1))\n",
    "\n",
    "dv = np.std(p1)\n",
    "dv"
   ]
  },
  {
   "cell_type": "code",
   "execution_count": 42,
   "id": "9df3eef1",
   "metadata": {},
   "outputs": [
    {
     "data": {
      "text/plain": [
       "(-1.0, 7.0)"
      ]
     },
     "execution_count": 42,
     "metadata": {},
     "output_type": "execute_result"
    }
   ],
   "source": [
    "Q25 = 2\n",
    "Q75 = 4\n",
    "(Q25 - 1.5 * (Q75 - Q25)), (Q75 + 1.5 *(Q75 - Q25))"
   ]
  },
  {
   "cell_type": "code",
   "execution_count": 48,
   "id": "073e7d12",
   "metadata": {},
   "outputs": [
    {
     "data": {
      "text/plain": [
       "(0.9, 0.33166666666666667)"
      ]
     },
     "execution_count": 48,
     "metadata": {},
     "output_type": "execute_result"
    }
   ],
   "source": [
    "y = np.array([1,2,3,4,5,-1,-2,-3,-4,-5])\n",
    "y_pred = np.array([0,2,2,5,3,-1,-1,-4,-6,-5])\n",
    "\n",
    "sk.metrics.mean_absolute_error(y, y_pred), mean_absolute_percentage_error(y, y_pred)"
   ]
  },
  {
   "cell_type": "code",
   "execution_count": 59,
   "id": "0a868bf1",
   "metadata": {},
   "outputs": [
    {
     "data": {
      "text/plain": [
       "(array([[0.8]]), array([-0.2]))"
      ]
     },
     "execution_count": 59,
     "metadata": {},
     "output_type": "execute_result"
    }
   ],
   "source": [
    "# 5.6\n",
    "\n",
    "X_train = pd.DataFrame([0,1,2,3])\n",
    "y_train = pd.DataFrame([0,1,0,3])\n",
    "\n",
    "regr = LinearRegression()\n",
    "regr.fit(X_train, y_train)\n",
    "\n",
    "regr.coef_, regr.intercept_"
   ]
  },
  {
   "cell_type": "code",
   "execution_count": 76,
   "id": "a185c523",
   "metadata": {},
   "outputs": [
    {
     "data": {
      "text/plain": [
       "(array([ 0.17391304,  0.62450593, -0.1027668 ]), 0.0)"
      ]
     },
     "execution_count": 76,
     "metadata": {},
     "output_type": "execute_result"
    }
   ],
   "source": [
    "# 5.7\n",
    "\n",
    "X_train = np.array([[0,3], [1,2], [2,1], [3,0]])\n",
    "y_train = np.array([0,1,0,3])\n",
    "\n",
    "X_train = np.insert(X_train, 0, values=1, axis=1)\n",
    "\n",
    "regr = Ridge(alpha=1, fit_intercept=False)\n",
    "regr.fit(X_train, y_train)\n",
    "\n",
    "regr.coef_, regr.intercept_"
   ]
  },
  {
   "cell_type": "code",
   "execution_count": 78,
   "id": "07e4d718",
   "metadata": {},
   "outputs": [
    {
     "data": {
      "text/plain": [
       "0.42857142857142855"
      ]
     },
     "execution_count": 78,
     "metadata": {},
     "output_type": "execute_result"
    }
   ],
   "source": [
    "15/35"
   ]
  }
 ],
 "metadata": {
  "kernelspec": {
   "display_name": "Python 3 (ipykernel)",
   "language": "python",
   "name": "python3"
  },
  "language_info": {
   "codemirror_mode": {
    "name": "ipython",
    "version": 3
   },
   "file_extension": ".py",
   "mimetype": "text/x-python",
   "name": "python",
   "nbconvert_exporter": "python",
   "pygments_lexer": "ipython3",
   "version": "3.10.9"
  }
 },
 "nbformat": 4,
 "nbformat_minor": 5
}
