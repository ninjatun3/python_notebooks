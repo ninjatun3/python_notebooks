{
 "cells": [
  {
   "cell_type": "markdown",
   "id": "42d5cb0f",
   "metadata": {},
   "source": [
    "решающие деревья"
   ]
  },
  {
   "cell_type": "code",
   "execution_count": null,
   "id": "82dad8c7",
   "metadata": {},
   "outputs": [],
   "source": [
    "import numpy as np\n",
    "import pandas as pd\n",
    "import sklearn as sk\n",
    "import seaborn as sns\n",
    "from sklearn.ensemble import RandomForestClassifier\n",
    "from sklearn.model_selection import GridSearchCV, RandomizedSearchCV\n",
    "from sklearn.metrics import confusion_matrix"
   ]
  },
  {
   "cell_type": "code",
   "execution_count": null,
   "id": "77cff872",
   "metadata": {
    "scrolled": true
   },
   "outputs": [],
   "source": [
    "df = pd.read_csv('https://stepik.org/media/attachments/course/4852/training_mush.csv')\n",
    "df.head()"
   ]
  },
  {
   "cell_type": "code",
   "execution_count": null,
   "id": "923d7b54",
   "metadata": {},
   "outputs": [],
   "source": [
    "# 3.5.3\n",
    "\n",
    "X = df.drop(columns='class')\n",
    "y = df['class']\n",
    "\n",
    "rf = RandomForestClassifier(criterion='entropy', \n",
    "                    random_state=0, \n",
    "                    n_jobs=-1)\n",
    "\n",
    "model = GridSearchCV(rf,\n",
    "                    param_grid={'n_estimators': range(10,50,10),\n",
    "                    'max_depth': range(1,12,2),\n",
    "                    'min_samples_leaf': range(1,7),\n",
    "                    'min_samples_split': range(2,9,2)},\n",
    "                     n_jobs=-1,\n",
    "                     cv=3)\n",
    "model.fit(X, y)\n",
    "model.best_params_"
   ]
  },
  {
   "cell_type": "code",
   "execution_count": null,
   "id": "e8d24091",
   "metadata": {},
   "outputs": [],
   "source": [
    "# 3.5.4\n",
    "\n",
    "rf.fit(X, y)\n",
    "imp = pd.DataFrame(rf.feature_importances_, index=X.columns, columns=['importance'])\n",
    "imp.sort_values('importance').plot(kind='barh')"
   ]
  },
  {
   "cell_type": "code",
   "execution_count": null,
   "id": "4ef33f0a",
   "metadata": {},
   "outputs": [],
   "source": [
    "# 3.5.5\n",
    "df_test = pd.read_csv('https://stepik.org/media/attachments/course/4852/testing_mush.csv')\n",
    "\n",
    "y_pred = rf.predict(df_test)\n",
    "y_pred.sum()"
   ]
  },
  {
   "cell_type": "code",
   "execution_count": null,
   "id": "9b795d33",
   "metadata": {},
   "outputs": [],
   "source": [
    "# 3.5.6\n",
    "\n",
    "y_true = pd.read_csv('/home/kir/Загрузки/testing_y_mush.csv')\n",
    "sns.heatmap(confusion_matrix(y_true, y_pred), cmap='Blues')"
   ]
  },
  {
   "cell_type": "code",
   "execution_count": null,
   "id": "453db394",
   "metadata": {},
   "outputs": [],
   "source": [
    "# 3.5.7\n",
    "\n",
    "df = pd.read_csv('https://stepik.org/media/attachments/course/4852/invasion.csv')\n",
    "df.head()"
   ]
  },
  {
   "cell_type": "code",
   "execution_count": null,
   "id": "62ab760a",
   "metadata": {},
   "outputs": [],
   "source": [
    "X_train = df.drop(columns='class')\n",
    "y_train = df['class']\n",
    "\n",
    "rf = RandomForestClassifier(criterion='gini', n_jobs=-1)\n",
    "model = GridSearchCV(rf,\n",
    "                    param_grid={'n_estimators': range(1,20,1),\n",
    "                    'max_depth': range(1,13,2),\n",
    "                    'min_samples_leaf': range(1,8),\n",
    "                    'min_samples_split': range(2,10,2)},\n",
    "                     n_jobs=-1,\n",
    "                     cv=3)\n",
    "\n",
    "model.fit(X_train, y_train)\n",
    "best_rf = model.best_estimator_"
   ]
  },
  {
   "cell_type": "code",
   "execution_count": null,
   "id": "0ded9cf3",
   "metadata": {},
   "outputs": [],
   "source": [
    "df_test = pd.read_csv('https://stepik.org/media/attachments/course/4852/operative_information.csv')\n",
    "df_test.head()maxmax"
   ]
  },
  {
   "cell_type": "code",
   "execution_count": null,
   "id": "668e6e0f",
   "metadata": {},
   "outputs": [],
   "source": [
    "y_pred = best_rf.predict(df_test)\n",
    "pd.Series(y_pred).value_counts()"
   ]
  },
  {
   "cell_type": "code",
   "execution_count": null,
   "id": "4e08d708",
   "metadata": {},
   "outputs": [],
   "source": [
    "# 3.5.8\n",
    "\n",
    "imp = pd.DataFrame(best_rf.feature_importances_, index=X_train.columns, columns=['importance'])\n",
    "imp.sort_values('importance').plot(kind='barh')"
   ]
  },
  {
   "cell_type": "code",
   "execution_count": null,
   "id": "91dad085",
   "metadata": {},
   "outputs": [],
   "source": [
    "# 3.5.9\n",
    "\n",
    "df = pd.read_csv('https://stepik.org/media/attachments/course/4852/space_can_be_a_dangerous_place.csv')\n",
    "df.info()"
   ]
  },
  {
   "cell_type": "code",
   "execution_count": null,
   "id": "3404a5ef",
   "metadata": {},
   "outputs": [],
   "source": [
    "X_train = df.drop(columns='dangerous')\n",
    "y_train = df.dangerous\n",
    "\n",
    "rf = RandomForestClassifier(criterion='gini', n_jobs=-1)\n",
    "search = RandomizedSearchCV(rf,\n",
    "                     param_distributions={'n_estimators': range(1,20,1),\n",
    "                    'max_depth': range(1,13,2),\n",
    "                    'min_samples_leaf': range(1,8),\n",
    "                    'min_samples_split': range(2,10,2)},\n",
    "                     n_jobs=-1,\n",
    "                     cv=3)\n",
    "search.fit(X_train, y_train)\n",
    "best_rf = search.best_estimator_"
   ]
  },
  {
   "cell_type": "code",
   "execution_count": null,
   "id": "2173dd62",
   "metadata": {},
   "outputs": [],
   "source": [
    "imp = pd.DataFrame(best_rf.feature_importances_, index=X_train.columns, columns=['importance'])\n",
    "imp.sort_values('importance').plot(kind='barh')"
   ]
  },
  {
   "cell_type": "code",
   "execution_count": null,
   "id": "be2c99e0",
   "metadata": {},
   "outputs": [],
   "source": [
    "# 4.1\n",
    "\n",
    "submission_data = pd.read_csv('https://stepik.org/media/attachments/course/4852/submission_data_test.csv')\n",
    "events_data = pd.read_csv('https://stepik.org/media/attachments/course/4852/events_data_test.csv')\n",
    "submission_data.head()"
   ]
  },
  {
   "cell_type": "code",
   "execution_count": null,
   "id": "988cbd3a",
   "metadata": {},
   "outputs": [],
   "source": [
    "events_data.head()"
   ]
  },
  {
   "cell_type": "code",
   "execution_count": null,
   "id": "5a4575e6",
   "metadata": {},
   "outputs": [],
   "source": [
    "user_info = events_data.groupby(['user_id', 'action']).count().reset_index()\n",
    "user_info"
   ]
  },
  {
   "cell_type": "code",
   "execution_count": null,
   "id": "537a20c4",
   "metadata": {},
   "outputs": [],
   "source": [
    "user_info.drop(columns=['timestamp'], inplace=True)\n",
    "user_info.rename(columns={'step_id': 'count'}, inplace=True)\n",
    "user_info.head()"
   ]
  },
  {
   "cell_type": "code",
   "execution_count": null,
   "id": "9fd5c239",
   "metadata": {},
   "outputs": [],
   "source": [
    "users_above_40_passed = user_info.loc[( (user_info['action'] == 'passed') & (user_info['count'] > 40) )]\n",
    "users_above_40_passed.info"
   ]
  },
  {
   "cell_type": "code",
   "execution_count": null,
   "id": "407ebdd3",
   "metadata": {},
   "outputs": [],
   "source": [
    "taxi.groupby(['borough', 'pickup_month'], as_index=True).agg({'pickups': 'sum'}).reset_index().sort_values(by='pickups', ascending=False)"
   ]
  },
  {
   "cell_type": "code",
   "execution_count": null,
   "id": "22eac9f9",
   "metadata": {},
   "outputs": [],
   "source": []
  }
 ],
 "metadata": {
  "kernelspec": {
   "display_name": "Python 3 (ipykernel)",
   "language": "python",
   "name": "python3"
  },
  "language_info": {
   "codemirror_mode": {
    "name": "ipython",
    "version": 3
   },
   "file_extension": ".py",
   "mimetype": "text/x-python",
   "name": "python",
   "nbconvert_exporter": "python",
   "pygments_lexer": "ipython3",
   "version": "3.10.9"
  }
 },
 "nbformat": 4,
 "nbformat_minor": 5
}
